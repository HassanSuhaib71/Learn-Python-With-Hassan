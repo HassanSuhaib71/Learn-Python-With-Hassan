{
 "cells": [
  {
   "cell_type": "code",
   "execution_count": 4,
   "metadata": {},
   "outputs": [
    {
     "name": "stdout",
     "output_type": "stream",
     "text": [
      "false\n"
     ]
    }
   ],
   "source": [
    "condition1 = 21>32\n",
    "\n",
    "if(condition1):\n",
    "    print(\"true\")\n",
    "else:\n",
    "    print(\"false\")"
   ]
  },
  {
   "cell_type": "markdown",
   "metadata": {},
   "source": [
    "#Practice Set\n"
   ]
  },
  {
   "cell_type": "markdown",
   "metadata": {},
   "source": [
    "##Q_1"
   ]
  },
  {
   "cell_type": "code",
   "execution_count": 3,
   "metadata": {},
   "outputs": [
    {
     "name": "stdout",
     "output_type": "stream",
     "text": [
      "Greatest number is 56\n"
     ]
    }
   ],
   "source": [
    "a1 = int(input(\"Enter number 1 : \"))\n",
    "a2 = int(input(\"Enter number 2 : \"))\n",
    "a3 = int(input(\"Enter number 3 : \"))\n",
    "a4 = int(input(\"Enter number 4 : \"))\n",
    "\n",
    "if (a1>a2 and a1>a3 and a1>a4 ):\n",
    "    print(f\"Greatest number is {a1}\")\n",
    "elif (a2>a1 and a2>a3 and a2>a4 ):\n",
    "    print(f\"Greatest number is {a2}\")\n",
    "elif (a3>a1 and a3>a2 and a3>a4 ):\n",
    "    print(f\"Greatest number is {a3}\")\n",
    "elif (a4>a2 and a4>a3 and a4>a1 ):\n",
    "    print(f\"Greatest number is {a4}\")\n",
    "    \n"
   ]
  },
  {
   "cell_type": "markdown",
   "metadata": {},
   "source": [
    "##Q_2"
   ]
  },
  {
   "cell_type": "code",
   "execution_count": 9,
   "metadata": {},
   "outputs": [
    {
     "name": "stdout",
     "output_type": "stream",
     "text": [
      "You are Passed.\n"
     ]
    }
   ],
   "source": [
    "m1 = int(input(\"Enter marks of Subject 1  :\"))\n",
    "m2 = int(input(\"Enter marks of Subject 2  :\"))\n",
    "m3 = int(input(\"Enter marks of Subject 3  :\"))\n",
    "\n",
    "t = (m1+m2+m3)/3\n",
    "\n",
    "if(t>=40 and m1>=33 and m2>=33 and m3>=33):\n",
    "    print(\"You are Passed.\")\n",
    "else:\n",
    "    print(\"You are failed\")"
   ]
  },
  {
   "cell_type": "markdown",
   "metadata": {},
   "source": [
    "##Q_3"
   ]
  },
  {
   "cell_type": "code",
   "execution_count": 3,
   "metadata": {},
   "outputs": [
    {
     "name": "stdout",
     "output_type": "stream",
     "text": [
      "This Message is spam. \n"
     ]
    }
   ],
   "source": [
    "p1 = \"make a lot of Money\"\n",
    "p2 = \"buy now\"\n",
    "p3 = \"subscribe this\"\n",
    "p4 = \"click this\"\n",
    "\n",
    "message : str = input(\"Enter Your Message : \")\n",
    "\n",
    "if((p1 in message) or (p2 in message) or (p3 in message) or(p4 in message)):\n",
    "    print(\"This Message is spam. \")\n",
    "else:\n",
    "    print(\"This Message is not spam.\")"
   ]
  },
  {
   "cell_type": "markdown",
   "metadata": {},
   "source": [
    "##Q_4\n"
   ]
  },
  {
   "cell_type": "code",
   "execution_count": 5,
   "metadata": {},
   "outputs": [
    {
     "name": "stdout",
     "output_type": "stream",
     "text": [
      "Your username is less than 10 character : \n"
     ]
    }
   ],
   "source": [
    "username = input(\"Enter your user name : \")\n",
    "\n",
    "if(len(username)<10):\n",
    "    print(\"Your username is less than 10 character : \")\n",
    "else:\n",
    "    print(\"UserName : \",username)"
   ]
  },
  {
   "cell_type": "markdown",
   "metadata": {},
   "source": [
    "##Q_5"
   ]
  },
  {
   "cell_type": "code",
   "execution_count": 7,
   "metadata": {},
   "outputs": [
    {
     "name": "stdout",
     "output_type": "stream",
     "text": [
      "Your name is Present in List.\n"
     ]
    }
   ],
   "source": [
    "l = [\"Hassan\", \"Ali\" , \"Rehan\" , \"Hashim\"]\n",
    "\n",
    "name = input(\"Enter name : \")\n",
    "\n",
    "if(name in l):\n",
    "    print(\"Your name is Present in List.\")\n",
    "else:\n",
    "    print(\"Your name is not Present in List.\")"
   ]
  },
  {
   "cell_type": "markdown",
   "metadata": {},
   "source": [
    "##Q_6\n"
   ]
  },
  {
   "cell_type": "code",
   "execution_count": 10,
   "metadata": {},
   "outputs": [
    {
     "name": "stdout",
     "output_type": "stream",
     "text": [
      "Your Grade is A. \n"
     ]
    }
   ],
   "source": [
    "marks = int(input(\"Enter Your marks\"))\n",
    "\n",
    "if(marks<=100 and marks>=90):\n",
    "    print(\"Your Grade is A. \")\n",
    "elif(marks<=90 and marks>=80):\n",
    "    print(\"Your Grade is B. \")\n",
    "elif(marks<=80 and marks>=70):\n",
    "    print(\"Your Grade is C. \")\n",
    "elif(marks<=70 and marks>=60):\n",
    "    print(\"Your Grade is D. \")\n",
    "elif(marks<=60 and marks>=50):\n",
    "    print(\"Your Grade is E. \")\n",
    "else:\n",
    "    print(\"You are Fail.\")"
   ]
  },
  {
   "cell_type": "markdown",
   "metadata": {},
   "source": [
    "##Q_7"
   ]
  },
  {
   "cell_type": "code",
   "execution_count": 13,
   "metadata": {},
   "outputs": [
    {
     "name": "stdout",
     "output_type": "stream",
     "text": [
      "This post is talking about Harry.\n"
     ]
    }
   ],
   "source": [
    "post = input(\"Enter post here : \")\n",
    "\n",
    "if(\"harry\" in post.lower()):\n",
    "    print(\"This post is talking about Harry.\")\n",
    "else:\n",
    "    print(\"This post is not talking about Harry.\")"
   ]
  }
 ],
 "metadata": {
  "kernelspec": {
   "display_name": "base",
   "language": "python",
   "name": "python3"
  },
  "language_info": {
   "codemirror_mode": {
    "name": "ipython",
    "version": 3
   },
   "file_extension": ".py",
   "mimetype": "text/x-python",
   "name": "python",
   "nbconvert_exporter": "python",
   "pygments_lexer": "ipython3",
   "version": "3.12.4"
  }
 },
 "nbformat": 4,
 "nbformat_minor": 2
}
