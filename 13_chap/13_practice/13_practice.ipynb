{
 "cells": [
  {
   "cell_type": "markdown",
   "metadata": {},
   "source": [
    "02_problem"
   ]
  },
  {
   "cell_type": "code",
   "execution_count": 1,
   "metadata": {},
   "outputs": [
    {
     "name": "stdout",
     "output_type": "stream",
     "text": [
      "The name of the student is Hassan, his marks is 45 and phone number is 408976345\n"
     ]
    }
   ],
   "source": [
    "name = input(\"Enter your name: \")\n",
    "marks = input(\"Enter your marks: \")\n",
    "phone = input(\"Enter your phone no: \")\n",
    "\n",
    "s = \"The name of the student is {}, his marks is {} and phone number is {}\".format(name,marks,phone)\n",
    "print(s)"
   ]
  },
  {
   "cell_type": "markdown",
   "metadata": {},
   "source": [
    "03_problem"
   ]
  },
  {
   "cell_type": "code",
   "execution_count": 2,
   "metadata": {},
   "outputs": [
    {
     "name": "stdout",
     "output_type": "stream",
     "text": [
      "7\n",
      "14\n",
      "21\n",
      "28\n",
      "35\n",
      "42\n",
      "49\n",
      "56\n",
      "63\n",
      "70\n"
     ]
    }
   ],
   "source": [
    "table = [str(7*i) for i in range(1,11)]\n",
    "s = \"\\n\".join(table)\n",
    "print(s)"
   ]
  },
  {
   "cell_type": "markdown",
   "metadata": {},
   "source": [
    "04_problem"
   ]
  },
  {
   "cell_type": "code",
   "execution_count": 3,
   "metadata": {},
   "outputs": [
    {
     "name": "stdout",
     "output_type": "stream",
     "text": [
      "[45, 55, 65, 7890]\n"
     ]
    }
   ],
   "source": [
    "def divisble5(n):\n",
    "    if(n%5 == 0):\n",
    "        return True\n",
    "    return False\n",
    "\n",
    "l = [1,2,45,55,65,7890,34]\n",
    "\n",
    "f = list(filter(divisble5 , l))\n",
    "print(f)"
   ]
  },
  {
   "cell_type": "markdown",
   "metadata": {},
   "source": [
    "05_problem"
   ]
  },
  {
   "cell_type": "code",
   "execution_count": 5,
   "metadata": {},
   "outputs": [
    {
     "name": "stdout",
     "output_type": "stream",
     "text": [
      "7890\n"
     ]
    }
   ],
   "source": [
    "from functools import reduce\n",
    "\n",
    "l = [1,2,45,55,65,7890,34]\n",
    "\n",
    "def greater(a,b):\n",
    "    if(a>b):\n",
    "        return a\n",
    "    return b\n",
    "\n",
    "s = reduce(greater,l)\n",
    "print(s)"
   ]
  },
  {
   "cell_type": "markdown",
   "metadata": {},
   "source": [
    "06_problem Making one virtuall environament venv1 and making venv2 and installing all pip of venv1 to venv2 already done in problem 1"
   ]
  },
  {
   "cell_type": "markdown",
   "metadata": {},
   "source": []
  }
 ],
 "metadata": {
  "kernelspec": {
   "display_name": "base",
   "language": "python",
   "name": "python3"
  },
  "language_info": {
   "codemirror_mode": {
    "name": "ipython",
    "version": 3
   },
   "file_extension": ".py",
   "mimetype": "text/x-python",
   "name": "python",
   "nbconvert_exporter": "python",
   "pygments_lexer": "ipython3",
   "version": "3.12.4"
  }
 },
 "nbformat": 4,
 "nbformat_minor": 2
}
