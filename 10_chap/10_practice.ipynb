{
 "cells": [
  {
   "cell_type": "markdown",
   "metadata": {},
   "source": [
    "01_problem"
   ]
  },
  {
   "cell_type": "code",
   "execution_count": 1,
   "metadata": {},
   "outputs": [
    {
     "name": "stdout",
     "output_type": "stream",
     "text": [
      "Hassan Microsoft 1000000 2314\n",
      "Harray Microsoft 50000 2144\n"
     ]
    }
   ],
   "source": [
    "class programer:\n",
    "    company = \"Microsoft\"\n",
    "\n",
    "    def __init__(self,name,salary,pin):\n",
    "        self.name = name\n",
    "        self.salary = salary\n",
    "        self.pin = pin\n",
    "\n",
    "p = programer(\"Hassan\", 1000000,2314)\n",
    "print(p.name,p.company,p.salary,p.pin)\n",
    "\n",
    "\n",
    "p = programer(\"Harray\", 50000,2144)\n",
    "print(p.name,p.company,p.salary,p.pin)\n"
   ]
  },
  {
   "cell_type": "markdown",
   "metadata": {},
   "source": [
    "02_problem"
   ]
  },
  {
   "cell_type": "code",
   "execution_count": null,
   "metadata": {},
   "outputs": [
    {
     "name": "stdout",
     "output_type": "stream",
     "text": [
      "TThe sqaure of given number is 16\n",
      "The cube of given number is 64\n",
      "The square root of given nummber is 2.0\n"
     ]
    }
   ],
   "source": [
    "class calculator:\n",
    "    def __init__(self,n):\n",
    "        self.n = n\n",
    "    def square(self):\n",
    "        print(f\"TThe sqaure of given number is {self.n*self.n}\")\n",
    "    \n",
    "    def square_root(self):\n",
    "        print(f\"The square root of given nummber is {self.n**1/2}\")\n",
    "\n",
    "    def cube(self):\n",
    "        print(f\"The cube of given number is {self.n*self.n*self.n}\")\n",
    "\n",
    "\n",
    "a = calculator(4)\n",
    "\n",
    "a.square()\n",
    "a.cube()\n",
    "a.square_root()\n",
    "\n"
   ]
  },
  {
   "cell_type": "markdown",
   "metadata": {},
   "source": [
    "03_problem"
   ]
  },
  {
   "cell_type": "code",
   "execution_count": null,
   "metadata": {},
   "outputs": [
    {
     "name": "stdout",
     "output_type": "stream",
     "text": [
      "4\n",
      "0\n",
      "4\n"
     ]
    }
   ],
   "source": [
    "class demo:\n",
    "    a=4\n",
    "\n",
    "o = demo()\n",
    "print(o.a)\n",
    "o.a = 0\n",
    "print(o.a)\n",
    "print(demo.a)"
   ]
  },
  {
   "cell_type": "markdown",
   "metadata": {},
   "source": [
    "04_problem"
   ]
  },
  {
   "cell_type": "code",
   "execution_count": 20,
   "metadata": {},
   "outputs": [
    {
     "name": "stdout",
     "output_type": "stream",
     "text": [
      "Hello World!\n"
     ]
    }
   ],
   "source": [
    "class greet:\n",
    "    \n",
    "    @staticmethod\n",
    "    def greetworld():\n",
    "        print(\"Hello World!\")\n",
    "\n",
    "x = greet()\n",
    "x.greetworld()\n",
    "\n"
   ]
  },
  {
   "cell_type": "markdown",
   "metadata": {},
   "source": [
    "05_problem"
   ]
  },
  {
   "cell_type": "code",
   "execution_count": 25,
   "metadata": {},
   "outputs": [
    {
     "name": "stdout",
     "output_type": "stream",
     "text": [
      "Ticket is booked in train no : 12345 from Mardan to Islamabad \n",
      "Train No : 12345 is running on time.\n",
      "Ticket fare in train no : 12345 from Mardan to Islamabad is 870\n"
     ]
    }
   ],
   "source": [
    "import random\n",
    "\n",
    "class train:\n",
    "    def __init__(self,trainNo):\n",
    "        self.trainNo = trainNo\n",
    "    \n",
    "    def book(self,fro,to):\n",
    "        print(f\"Ticket is booked in train no : {self.trainNo} from {fro} to {to} \")\n",
    "\n",
    "    def getstatus(self):\n",
    "        print(f\"Train No : {self.trainNo} is running on time.\")\n",
    "    \n",
    "    def getFare(self, fro,to):\n",
    "        print(f\"Ticket fare in train no : {self.trainNo} from {fro} to {to} is {random.randint(500,1000)}\")\n",
    "\n",
    "a = train(12345)\n",
    "\n",
    "a.book(\"Mardan\", \"Islamabad\")\n",
    "a.getstatus()\n",
    "a.getFare(\"Mardan\",\"Islamabad\")\n"
   ]
  },
  {
   "cell_type": "markdown",
   "metadata": {},
   "source": [
    "06_problem\n",
    "changing_Self_to_other_Word"
   ]
  },
  {
   "cell_type": "code",
   "execution_count": 27,
   "metadata": {},
   "outputs": [
    {
     "name": "stdout",
     "output_type": "stream",
     "text": [
      "Ticket is booked in train no : 1245 from Mardan to Islamabad \n"
     ]
    }
   ],
   "source": [
    "class train:\n",
    "    def __init__(harry,trainNo):\n",
    "        harry.trainNo = trainNo\n",
    "    \n",
    "    def book(harry,fro,to):\n",
    "        print(f\"Ticket is booked in train no : {harry.trainNo} from {fro} to {to} \")\n",
    "\n",
    "t = train(1245)\n",
    "t.book(\"Mardan\",\"Islamabad\")"
   ]
  }
 ],
 "metadata": {
  "kernelspec": {
   "display_name": "base",
   "language": "python",
   "name": "python3"
  },
  "language_info": {
   "codemirror_mode": {
    "name": "ipython",
    "version": 3
   },
   "file_extension": ".py",
   "mimetype": "text/x-python",
   "name": "python",
   "nbconvert_exporter": "python",
   "pygments_lexer": "ipython3",
   "version": "3.12.4"
  }
 },
 "nbformat": 4,
 "nbformat_minor": 2
}
