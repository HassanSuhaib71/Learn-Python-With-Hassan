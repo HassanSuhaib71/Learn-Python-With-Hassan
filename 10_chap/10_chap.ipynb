{
 "cells": [
  {
   "cell_type": "markdown",
   "metadata": {},
   "source": [
    "01_class"
   ]
  },
  {
   "cell_type": "code",
   "execution_count": 2,
   "metadata": {},
   "outputs": [
    {
     "name": "stdout",
     "output_type": "stream",
     "text": [
      "Hassan py 12000\n"
     ]
    }
   ],
   "source": [
    "class Employee:\n",
    "    name = \"Hassan\"\n",
    "    language = \"py\"\n",
    "    salary = 12000\n",
    "\n",
    "hassan = Employee()\n",
    "print(hassan.name , hassan.language , hassan.salary)"
   ]
  },
  {
   "cell_type": "code",
   "execution_count": 4,
   "metadata": {},
   "outputs": [
    {
     "name": "stdout",
     "output_type": "stream",
     "text": [
      "Hassan py 12000\n",
      "Rohan py 12000\n"
     ]
    }
   ],
   "source": [
    "class Employee:\n",
    "    \n",
    "    language = \"py\"\n",
    "    salary = 12000\n",
    "\n",
    "hassan = Employee()\n",
    "hassan.name = \"Hassan\"\n",
    "print(hassan.name , hassan.language , hassan.salary)\n",
    "\n",
    "rohan = Employee()\n",
    "rohan.name = \"Rohan\"\n",
    "print(rohan.name,rohan.language,rohan.salary)"
   ]
  },
  {
   "cell_type": "markdown",
   "metadata": {},
   "source": [
    "02_instance_vs_class_attr_______________#Instance take preference over class Attribute"
   ]
  },
  {
   "cell_type": "code",
   "execution_count": 5,
   "metadata": {},
   "outputs": [
    {
     "name": "stdout",
     "output_type": "stream",
     "text": [
      "Javascript 12000\n"
     ]
    }
   ],
   "source": [
    "class Employee:\n",
    "    language = \"py\"\n",
    "    salary = 12000\n",
    "\n",
    "hassan = Employee()\n",
    "hassan.language = \"Javascript\"\n",
    "print(hassan.language,hassan.salary)"
   ]
  },
  {
   "cell_type": "markdown",
   "metadata": {},
   "source": [
    "03_Self"
   ]
  },
  {
   "cell_type": "code",
   "execution_count": 6,
   "metadata": {},
   "outputs": [
    {
     "name": "stdout",
     "output_type": "stream",
     "text": [
      "The Language is py and salary is 12000.\n"
     ]
    }
   ],
   "source": [
    "class Employee:\n",
    "    language = \"py\"\n",
    "    salary = 12000\n",
    "    \n",
    "    def getInfo(self):\n",
    "        print(f\"The Language is {self.language} and salary is {self.salary}.\")\n",
    "\n",
    "harry = Employee()\n",
    "harry.getInfo()"
   ]
  },
  {
   "cell_type": "markdown",
   "metadata": {},
   "source": [
    "@staticmethod"
   ]
  },
  {
   "cell_type": "code",
   "execution_count": 8,
   "metadata": {},
   "outputs": [
    {
     "name": "stdout",
     "output_type": "stream",
     "text": [
      "Good Morning\n"
     ]
    }
   ],
   "source": [
    "class Employee:\n",
    "    language = \"py\"\n",
    "    salary = 12000\n",
    "\n",
    "    @staticmethod\n",
    "    def getGreet():\n",
    "        print(\"Good Morning\")\n",
    "\n",
    "harry = Employee()\n",
    "harry.getGreet()"
   ]
  },
  {
   "cell_type": "markdown",
   "metadata": {},
   "source": [
    "04_constructor"
   ]
  },
  {
   "cell_type": "code",
   "execution_count": 13,
   "metadata": {},
   "outputs": [
    {
     "name": "stdout",
     "output_type": "stream",
     "text": [
      "Hassan pyhton 12000\n",
      "Rohan Javascript 12000\n"
     ]
    }
   ],
   "source": [
    "class Employee:\n",
    "    language = \"py\"\n",
    "    salary = 12000\n",
    "\n",
    "    def __init__(self, name , salary, language):\n",
    "        self.name = name\n",
    "        self.salary = salary\n",
    "        self.language = language\n",
    "\n",
    "harry = Employee(\"Hassan\",\"pyhton\",12000)\n",
    "print(harry.name,harry.salary,harry.language)\n",
    "\n",
    "\n",
    "rohan = Employee(\"Rohan\",\"Javascript\",12000)\n",
    "print(rohan.name,rohan.salary,rohan.language)\n",
    "\n"
   ]
  }
 ],
 "metadata": {
  "kernelspec": {
   "display_name": "base",
   "language": "python",
   "name": "python3"
  },
  "language_info": {
   "codemirror_mode": {
    "name": "ipython",
    "version": 3
   },
   "file_extension": ".py",
   "mimetype": "text/x-python",
   "name": "python",
   "nbconvert_exporter": "python",
   "pygments_lexer": "ipython3",
   "version": "3.12.4"
  }
 },
 "nbformat": 4,
 "nbformat_minor": 2
}
