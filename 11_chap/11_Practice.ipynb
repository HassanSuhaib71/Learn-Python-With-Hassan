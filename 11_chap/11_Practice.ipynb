{
 "cells": [
  {
   "cell_type": "markdown",
   "metadata": {},
   "source": [
    "01_problem"
   ]
  },
  {
   "cell_type": "code",
   "execution_count": 5,
   "metadata": {},
   "outputs": [
    {
     "name": "stdout",
     "output_type": "stream",
     "text": [
      "The vector is 1i + 2j\n",
      "The vector is 5i + 6j + 7k\n"
     ]
    }
   ],
   "source": [
    "class twoDVector:\n",
    "\n",
    "    def __init__(self,i,j):\n",
    "        self.i = i \n",
    "        self.j = j\n",
    "\n",
    "    def show(self):\n",
    "        print(f\"The vector is {self.i}i + {self.j}j\")\n",
    "\n",
    "class threeDVector(twoDVector):\n",
    "\n",
    "    def __init__(self,i,j,k):\n",
    "        super().__init__(i,j)\n",
    "        self.k = k\n",
    "\n",
    "    def show(self):\n",
    "        print(f\"The vector is {self.i}i + {self.j}j + {self.k}k\")\n",
    "\n",
    "a = twoDVector(1,2)\n",
    "a.show()\n",
    "b = threeDVector(5,6,7)\n",
    "b.show()"
   ]
  },
  {
   "cell_type": "markdown",
   "metadata": {},
   "source": [
    "02_problem"
   ]
  },
  {
   "cell_type": "code",
   "execution_count": 6,
   "metadata": {},
   "outputs": [
    {
     "name": "stdout",
     "output_type": "stream",
     "text": [
      "Bow Bow!\n"
     ]
    }
   ],
   "source": [
    "class Animal:\n",
    "    pass\n",
    "\n",
    "class Pets(Animal):\n",
    "    pass\n",
    "\n",
    "class Dogs(Pets):\n",
    "    \n",
    "    @staticmethod\n",
    "    def bark():\n",
    "        print(\"Bow Bow!\")\n",
    "\n",
    "a = Dogs()\n",
    "\n",
    "a.bark()"
   ]
  },
  {
   "cell_type": "markdown",
   "metadata": {},
   "source": [
    "03_Problem"
   ]
  },
  {
   "cell_type": "code",
   "execution_count": 28,
   "metadata": {},
   "outputs": [
    {
     "name": "stdout",
     "output_type": "stream",
     "text": [
      "10.000000000000009\n"
     ]
    }
   ],
   "source": [
    "class Employee:\n",
    "    salary = 1000\n",
    "    increment = 10\n",
    "\n",
    "    @property\n",
    "    def salaryAfterIncrement(self):\n",
    "        return (self.salary+self.salary * (self.increment/100))\n",
    "    \n",
    "    @salaryAfterIncrement.setter\n",
    "    def salaryAfterIncrement(self,salary):\n",
    "        self.increment = ((salary/self.salary)-1)*100\n",
    "\n",
    "e = Employee()\n",
    "# print(e.salaryAfterIncrement())\n",
    "e.salaryAfterIncrement = 1100.0\n",
    "print(e.increment)"
   ]
  },
  {
   "cell_type": "markdown",
   "metadata": {},
   "source": [
    "04_Problem"
   ]
  },
  {
   "cell_type": "code",
   "execution_count": 33,
   "metadata": {},
   "outputs": [
    {
     "name": "stdout",
     "output_type": "stream",
     "text": [
      "3 + 7i\n",
      "-10 + 14i\n"
     ]
    }
   ],
   "source": [
    "class Complex:\n",
    "    def __init__(self,r,i):\n",
    "        self.r = r\n",
    "        self.i = i\n",
    "    \n",
    "    def __add__(self, c2):\n",
    "        return Complex(self.r + c2.r , self.i + c2.i)\n",
    "    \n",
    "    \n",
    "    def __mul__(self,c2):\n",
    "        real_part = self.r * c2.r - self.i * c2.i\n",
    "        imag_part = self.r * c2.r + self.i * c2.i\n",
    "        return Complex(real_part , imag_part)\n",
    "    \n",
    "    def __str__(self):\n",
    "        return f\"{self.r} + {self.i}i\"\n",
    "    \n",
    "c1 = Complex(1 , 3)\n",
    "c2 = Complex(2 , 4)\n",
    "\n",
    "print(c1+c2)\n",
    "print(c1*c2)"
   ]
  },
  {
   "cell_type": "markdown",
   "metadata": {},
   "source": [
    "05_problem"
   ]
  },
  {
   "cell_type": "code",
   "execution_count": null,
   "metadata": {},
   "outputs": [
    {
     "name": "stdout",
     "output_type": "stream",
     "text": [
      "Vector(5, 7, 9)\n",
      "32\n",
      "Vector(8, 10, 12)\n",
      "50\n"
     ]
    }
   ],
   "source": [
    "class Vector:\n",
    "    def __init__(self, x, y, z):\n",
    "        self.x = x\n",
    "        self.y = y\n",
    "        self.z = z\n",
    "\n",
    "    def __add__(self, other):\n",
    "        result = Vector(self.x + other.x, self.y + other.y, self.z + other.z)\n",
    "        return result\n",
    "\n",
    "    def __mul__(self, other):\n",
    "        result = self.x * other.x + self.y * other.y + self.z * other.z\n",
    "        return result\n",
    "\n",
    "    def __str__(self):\n",
    "        return f\"Vector({self.x}, {self.y}, {self.z})\"\n",
    "\n",
    "v1 = Vector(1, 2, 3)\n",
    "v2 = Vector(4, 5, 6)\n",
    "v3 = Vector(7, 8, 9)\n",
    "\n",
    "print(v1 + v2)  \n",
    "print(v1 * v2)  \n",
    "\n",
    "print(v1 + v3)  \n",
    "print(v1 * v3) "
   ]
  },
  {
   "cell_type": "markdown",
   "metadata": {},
   "source": [
    "06_Problem"
   ]
  },
  {
   "cell_type": "code",
   "execution_count": 35,
   "metadata": {},
   "outputs": [
    {
     "name": "stdout",
     "output_type": "stream",
     "text": [
      "5i + 7j + 9k\n",
      "32\n",
      "8i + 10j + 12k\n",
      "50\n"
     ]
    }
   ],
   "source": [
    "\n",
    "class Vector:\n",
    "    def __init__(self, x, y, z):\n",
    "        self.x = x\n",
    "        self.y = y\n",
    "        self.z = z\n",
    "\n",
    "    def __add__(self, other):\n",
    "        result = Vector(self.x + other.x, self.y + other.y, self.z + other.z)\n",
    "        return result\n",
    "\n",
    "    def __mul__(self, other):\n",
    "        result = self.x * other.x + self.y * other.y + self.z * other.z\n",
    "        return result\n",
    "\n",
    "    def __str__(self):\n",
    "        return f\"{self.x}i + {self.y}j + {self.z}k\"\n",
    "\n",
    "# Test the implementation\n",
    "v1 = Vector(1, 2, 3)\n",
    "v2 = Vector(4, 5, 6)\n",
    "v3 = Vector(7, 8, 9)  # Same dimension vector\n",
    "\n",
    "print(v1 + v2)  # Output: Vector(5, 7, 9)\n",
    "print(v1 * v2)  # Output: 32\n",
    "\n",
    "print(v1 + v3)  # Output: Vector(8, 10, 12)\n",
    "print(v1 * v3)  # Output: 50"
   ]
  },
  {
   "cell_type": "markdown",
   "metadata": {},
   "source": [
    "07_problem"
   ]
  },
  {
   "cell_type": "code",
   "execution_count": null,
   "metadata": {},
   "outputs": [
    {
     "name": "stdout",
     "output_type": "stream",
     "text": [
      "3\n"
     ]
    }
   ],
   "source": [
    "class Vector:\n",
    "    def __init__(self, l): \n",
    "        self.l = l\n",
    "\n",
    "    \n",
    "    \n",
    "    def __len__(self):\n",
    "        return len(self.l)\n",
    "\n",
    "v1 = Vector([1, 2, 3]) \n",
    "print(len(v1))"
   ]
  }
 ],
 "metadata": {
  "kernelspec": {
   "display_name": "base",
   "language": "python",
   "name": "python3"
  },
  "language_info": {
   "codemirror_mode": {
    "name": "ipython",
    "version": 3
   },
   "file_extension": ".py",
   "mimetype": "text/x-python",
   "name": "python",
   "nbconvert_exporter": "python",
   "pygments_lexer": "ipython3",
   "version": "3.12.4"
  }
 },
 "nbformat": 4,
 "nbformat_minor": 2
}
