{
 "cells": [
  {
   "cell_type": "markdown",
   "metadata": {},
   "source": [
    "01_Inheritince"
   ]
  },
  {
   "cell_type": "code",
   "execution_count": 3,
   "metadata": {},
   "outputs": [
    {
     "name": "stdout",
     "output_type": "stream",
     "text": [
      "itc itc tech\n"
     ]
    }
   ],
   "source": [
    "class employee:\n",
    "    company = \"itc\"\n",
    "    def show(self):\n",
    "        print(f\"{self.name} is employee at {self.company}.\")\n",
    "\n",
    "class Programmer(employee):\n",
    "    comp  = \"itc tech\"\n",
    "    def showlanguage(self):\n",
    "        print(f\"the name is {self.name} and he is good is good with {self.language} language.\")\n",
    "\n",
    "b = Programmer()\n",
    "\n",
    "print(b.company,b.comp)"
   ]
  },
  {
   "cell_type": "markdown",
   "metadata": {},
   "source": [
    "02_Multiple_inheritence"
   ]
  },
  {
   "cell_type": "code",
   "execution_count": null,
   "metadata": {},
   "outputs": [
    {
     "name": "stdout",
     "output_type": "stream",
     "text": [
      "The name of company is ITC tech and the company is Default namre\n",
      "Out of all languages here is your language Python\n",
      "the name is Default namre and he is good in Python\n"
     ]
    }
   ],
   "source": [
    "class Employee:\n",
    "    company = \"ITC\"\n",
    "    name = \"Default name\"\n",
    "    def show(self):\n",
    "        print(f\"The name of company is {self.company} and the company is {self.name}\")\n",
    "    \n",
    "class coder:\n",
    "    language = \"Python\"\n",
    "    def printlanguages(self):\n",
    "        print(f\"Out of all languages here is your language {self.language}\")\n",
    "\n",
    "class Programmer(Employee,coder):\n",
    "    company = \"ITC tech\"\n",
    "    def showLanguage(self):\n",
    "        print(f\"the name is {self.name} and he is good in {self.language}\")\n",
    "\n",
    "b = Programmer()\n",
    "\n",
    "b.show()\n",
    "b.printlanguages()\n",
    "b.showLanguage()"
   ]
  },
  {
   "cell_type": "markdown",
   "metadata": {},
   "source": [
    "03_Multilevel_inheritince"
   ]
  },
  {
   "cell_type": "code",
   "execution_count": 6,
   "metadata": {},
   "outputs": [
    {
     "name": "stdout",
     "output_type": "stream",
     "text": [
      "1 2 3\n"
     ]
    }
   ],
   "source": [
    "class Employee:\n",
    "    a= 1\n",
    "\n",
    "class Programmer(Employee):\n",
    "    b= 2\n",
    "\n",
    "class Manager(Programmer):\n",
    "    c=3\n",
    "\n",
    "o = Manager()\n",
    "\n",
    "print(o.a,o.b,o.c)"
   ]
  },
  {
   "cell_type": "markdown",
   "metadata": {},
   "source": [
    "04_Super"
   ]
  },
  {
   "cell_type": "code",
   "execution_count": null,
   "metadata": {},
   "outputs": [
    {
     "name": "stdout",
     "output_type": "stream",
     "text": [
      "Programmer Constructor\n",
      "Manager Constructor\n",
      "1 2 3\n"
     ]
    }
   ],
   "source": [
    "class Employee:\n",
    "    a= 1\n",
    "    def __init__(self):\n",
    "        print(\"Employee contructor\")\n",
    "\n",
    "class Programmer(Employee):\n",
    "    b= 2\n",
    "    def __init__(self):\n",
    "        print(\"Programmer Constructor\")\n",
    "\n",
    "class Manager(Programmer):\n",
    "    c=3\n",
    "    def __init__(self):\n",
    "        super().__init__()\n",
    "        print(\"Manager Constructor\")\n",
    "\n",
    "o = Manager()\n",
    "\n",
    "print(o.a,o.b,o.c)"
   ]
  },
  {
   "cell_type": "markdown",
   "metadata": {},
   "source": [
    "05_Class_method"
   ]
  },
  {
   "cell_type": "code",
   "execution_count": 19,
   "metadata": {},
   "outputs": [
    {
     "name": "stdout",
     "output_type": "stream",
     "text": [
      "The class attribute is 1\n"
     ]
    }
   ],
   "source": [
    "class Employee:\n",
    "    a = 1\n",
    "\n",
    "    @classmethod\n",
    "    def show(cls):\n",
    "        print(f\"The class attribute is {cls.a}\")\n",
    "\n",
    "e = Employee()\n",
    "e.a = 45\n",
    "\n",
    "e.show()"
   ]
  },
  {
   "cell_type": "markdown",
   "metadata": {},
   "source": [
    "06_Property_decorater"
   ]
  },
  {
   "cell_type": "code",
   "execution_count": 24,
   "metadata": {},
   "outputs": [
    {
     "name": "stdout",
     "output_type": "stream",
     "text": [
      "Hassan Suhaib\n"
     ]
    }
   ],
   "source": [
    "class Employee:\n",
    "\n",
    "    @property\n",
    "    def name(self):\n",
    "        return f\"{self.fname} {self.lname}\"\n",
    "    \n",
    "    @name.setter\n",
    "    def name(self,value):\n",
    "        self.fname = value.split(\" \")[0]\n",
    "        self.lname = value.split(\" \")[1]\n",
    "\n",
    "e = Employee()\n",
    "\n",
    "e.name = \"Hassan Suhaib\"\n",
    "\n",
    "print(e.fname,e.lname)"
   ]
  },
  {
   "cell_type": "markdown",
   "metadata": {},
   "source": [
    "07_Operator_overloading"
   ]
  },
  {
   "cell_type": "code",
   "execution_count": 25,
   "metadata": {},
   "outputs": [
    {
     "name": "stdout",
     "output_type": "stream",
     "text": [
      "3\n"
     ]
    }
   ],
   "source": [
    "class Number:\n",
    "    def __init__(self,n):\n",
    "        self.n = n\n",
    "    \n",
    "    def __add__(self,num):\n",
    "        return self.n + num.n\n",
    "    \n",
    "n = Number(1)\n",
    "m = Number(2)\n",
    "\n",
    "print(n+m)\n"
   ]
  }
 ],
 "metadata": {
  "kernelspec": {
   "display_name": "base",
   "language": "python",
   "name": "python3"
  },
  "language_info": {
   "codemirror_mode": {
    "name": "ipython",
    "version": 3
   },
   "file_extension": ".py",
   "mimetype": "text/x-python",
   "name": "python",
   "nbconvert_exporter": "python",
   "pygments_lexer": "ipython3",
   "version": "3.12.4"
  }
 },
 "nbformat": 4,
 "nbformat_minor": 2
}
