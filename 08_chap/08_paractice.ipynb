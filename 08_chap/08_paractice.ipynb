{
 "cells": [
  {
   "cell_type": "markdown",
   "metadata": {},
   "source": [
    "01_Que"
   ]
  },
  {
   "cell_type": "code",
   "execution_count": null,
   "metadata": {},
   "outputs": [
    {
     "data": {
      "text/plain": [
       "6"
      ]
     },
     "execution_count": 1,
     "metadata": {},
     "output_type": "execute_result"
    }
   ],
   "source": [
    "def greater(a,b,c):\n",
    "    if(a>b and a>c):\n",
    "        return a\n",
    "    elif(b>a and b>c):\n",
    "        return b\n",
    "    elif(c>b and c>a):\n",
    "        return c\n",
    "\n",
    "a = int(input(\"Enter 1st NUmber :\"))\n",
    "b = int(input(\"Enter 2nd NUmber :\"))\n",
    "c = int(input(\"Enter 3rd NUmber :\"))\n",
    "greater(a,b,c)\n"
   ]
  },
  {
   "cell_type": "markdown",
   "metadata": {},
   "source": [
    "02_Que"
   ]
  },
  {
   "cell_type": "code",
   "execution_count": 3,
   "metadata": {},
   "outputs": [
    {
     "name": "stdout",
     "output_type": "stream",
     "text": [
      "37.78 C\n"
     ]
    }
   ],
   "source": [
    "def f_to_c(f):\n",
    "    return 5*(f-32)/9\n",
    "\n",
    "f = int(input(\"Enter a Temperature in F :\"))\n",
    "c = f_to_c(f)\n",
    "print(f\"{round(c,2)} C\")"
   ]
  },
  {
   "cell_type": "markdown",
   "metadata": {},
   "source": [
    "03_Que"
   ]
  },
  {
   "cell_type": "code",
   "execution_count": 4,
   "metadata": {},
   "outputs": [
    {
     "name": "stdout",
     "output_type": "stream",
     "text": [
      "a\n",
      "b\n",
      "cb"
     ]
    }
   ],
   "source": [
    "print(\"a\")\n",
    "print(\"b\")\n",
    "print(\"c\",end=\"\")\n",
    "print(\"b\",end=\"\")"
   ]
  },
  {
   "cell_type": "markdown",
   "metadata": {},
   "source": [
    "04_Que"
   ]
  },
  {
   "cell_type": "code",
   "execution_count": 5,
   "metadata": {},
   "outputs": [
    {
     "name": "stdout",
     "output_type": "stream",
     "text": [
      "10\n"
     ]
    }
   ],
   "source": [
    "def sum(n):\n",
    "    if(n==1):\n",
    "        return 1\n",
    "    return sum(n-1) + n\n",
    "\n",
    "print(sum(4))"
   ]
  },
  {
   "cell_type": "markdown",
   "metadata": {},
   "source": [
    "05_Que"
   ]
  },
  {
   "cell_type": "code",
   "execution_count": 7,
   "metadata": {},
   "outputs": [
    {
     "name": "stdout",
     "output_type": "stream",
     "text": [
      "****\n",
      "***\n",
      "**\n",
      "*\n"
     ]
    }
   ],
   "source": [
    "def pattern(n):\n",
    "    if(n==0):\n",
    "        return\n",
    "    print(\"*\" * n)\n",
    "    pattern(n-1)\n",
    "\n",
    "pattern(4)"
   ]
  },
  {
   "cell_type": "markdown",
   "metadata": {},
   "source": [
    "06_Que"
   ]
  },
  {
   "cell_type": "code",
   "execution_count": 9,
   "metadata": {},
   "outputs": [
    {
     "name": "stdout",
     "output_type": "stream",
     "text": [
      "10.16\n"
     ]
    }
   ],
   "source": [
    "def in_to_cm(inch):\n",
    "    return inch*2.54\n",
    "\n",
    "n = int(input(\"Enter value in inches :\"))\n",
    "\n",
    "print(in_to_cm(n))"
   ]
  },
  {
   "cell_type": "markdown",
   "metadata": {},
   "source": [
    "07_Que"
   ]
  },
  {
   "cell_type": "code",
   "execution_count": 12,
   "metadata": {},
   "outputs": [
    {
     "name": "stdout",
     "output_type": "stream",
     "text": [
      "['Harry', 'Roh', 'Shubm']\n"
     ]
    }
   ],
   "source": [
    "def rem(l,word):\n",
    "    n =[]\n",
    "    for item in l:\n",
    "        if not(item == word):\n",
    "            n.append(item.strip(word))\n",
    "    return n\n",
    "    \n",
    "l = [\"Harry\",\"Rohan\", \"Shubman\",\"an\"]\n",
    "print(rem(l,\"an\"))\n",
    "\n",
    "   "
   ]
  },
  {
   "cell_type": "markdown",
   "metadata": {},
   "source": [
    "08_Que"
   ]
  },
  {
   "cell_type": "code",
   "execution_count": 13,
   "metadata": {},
   "outputs": [
    {
     "name": "stdout",
     "output_type": "stream",
     "text": [
      "5 * 1 = 5\n",
      "5 * 2 = 10\n",
      "5 * 3 = 15\n",
      "5 * 4 = 20\n",
      "5 * 5 = 25\n",
      "5 * 6 = 30\n",
      "5 * 7 = 35\n",
      "5 * 8 = 40\n",
      "5 * 9 = 45\n",
      "5 * 10 = 50\n"
     ]
    }
   ],
   "source": [
    "def mnultiply(n):\n",
    "    for i in range(1,11):\n",
    "        print(f\"{n} * {i} = {n*i}\")\n",
    "\n",
    "mnultiply(5)"
   ]
  }
 ],
 "metadata": {
  "kernelspec": {
   "display_name": "base",
   "language": "python",
   "name": "python3"
  },
  "language_info": {
   "codemirror_mode": {
    "name": "ipython",
    "version": 3
   },
   "file_extension": ".py",
   "mimetype": "text/x-python",
   "name": "python",
   "nbconvert_exporter": "python",
   "pygments_lexer": "ipython3",
   "version": "3.12.4"
  }
 },
 "nbformat": 4,
 "nbformat_minor": 2
}
