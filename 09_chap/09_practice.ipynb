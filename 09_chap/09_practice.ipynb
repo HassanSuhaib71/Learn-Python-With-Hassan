{
 "cells": [
  {
   "cell_type": "markdown",
   "metadata": {},
   "source": [
    "01_Poem"
   ]
  },
  {
   "cell_type": "code",
   "execution_count": 2,
   "metadata": {},
   "outputs": [
    {
     "name": "stdout",
     "output_type": "stream",
     "text": [
      "Twinkel is Present in Content\n"
     ]
    }
   ],
   "source": [
    "f = open(\"poem.txt\")\n",
    "content = f.read()\n",
    "if(\"Twinkel\" in content):\n",
    "    print(\"Twinkel is Present in Content\")\n",
    "else:\n",
    "    print(\"Twinkel is not Present in Content\")\n",
    "\n",
    "f.close()"
   ]
  },
  {
   "cell_type": "markdown",
   "metadata": {},
   "source": [
    "02_Game_hiscore"
   ]
  },
  {
   "cell_type": "code",
   "execution_count": 8,
   "metadata": {},
   "outputs": [
    {
     "name": "stdout",
     "output_type": "stream",
     "text": [
      "Your Score :22\n"
     ]
    },
    {
     "data": {
      "text/plain": [
       "30"
      ]
     },
     "execution_count": 8,
     "metadata": {},
     "output_type": "execute_result"
    }
   ],
   "source": [
    "import random\n",
    "\n",
    "def game():\n",
    "    score = random.randint(1,62)\n",
    "    with open(\"hi_score.txt\") as f:\n",
    "        hiscore = f.read()\n",
    "\n",
    "        if(hiscore!=\"\"):\n",
    "            hiscore = int(hiscore)\n",
    "        else:\n",
    "            hiscore = 0\n",
    "    print(f\"Your Score :{hiscore}\")\n",
    "    if(score>hiscore):\n",
    "        with open(\"hi_score.txt\",\"w\") as f:\n",
    "            f.write(str(score))\n",
    "    return score\n",
    "\n",
    "game()\n"
   ]
  },
  {
   "cell_type": "markdown",
   "metadata": {},
   "source": [
    "03_Tables\n"
   ]
  },
  {
   "cell_type": "code",
   "execution_count": null,
   "metadata": {},
   "outputs": [],
   "source": [
    "def generatesTable(n):\n",
    "    table = \"\"\n",
    "    for i in range(2,5):\n",
    "        table += f\"{n} * {i} = {n*i}\\n \"\n",
    "    \n",
    "    with open(f\"tables{n}.txt\",\"w\") as f:\n",
    "        f.write(table)\n",
    "\n",
    "for i in range(2,5):\n",
    "    generatesTable(i)\n"
   ]
  },
  {
   "cell_type": "markdown",
   "metadata": {},
   "source": [
    "04_replace"
   ]
  },
  {
   "cell_type": "code",
   "execution_count": 19,
   "metadata": {},
   "outputs": [],
   "source": [
    "word = \"File\"\n",
    "\n",
    "with open(\"file.txt\") as f:\n",
    "    content = f.read()\n",
    "\n",
    "contentNew = content.replace(word,\"#####\")\n",
    "\n",
    "with open(\"file.txt\",\"w\") as f:\n",
    "    f.write(contentNew)"
   ]
  },
  {
   "cell_type": "markdown",
   "metadata": {},
   "source": [
    "05_problem"
   ]
  },
  {
   "cell_type": "code",
   "execution_count": 26,
   "metadata": {},
   "outputs": [],
   "source": [
    "words = [\"file\" , \"soft\" , \"hard\"]\n",
    "\n",
    "with open(\"file.txt\",\"r\") as f:\n",
    "    content = f.read()\n",
    "\n",
    "for word in words:\n",
    "    content = content.replace(word,\"#\" * len(word) )\n",
    "\n",
    "with open(\"file.txt\",\"w\") as f:\n",
    "    f.write(content)"
   ]
  },
  {
   "cell_type": "markdown",
   "metadata": {},
   "source": [
    "06_problem"
   ]
  },
  {
   "cell_type": "code",
   "execution_count": 31,
   "metadata": {},
   "outputs": [
    {
     "name": "stdout",
     "output_type": "stream",
     "text": [
      "Pyhton is present in Content\n"
     ]
    }
   ],
   "source": [
    "with open(\"log.txt\") as f:\n",
    "    content = f.read()\n",
    "\n",
    "if(\"python\" in content):\n",
    "    print(\"Pyhton is present in Content\")\n",
    "else:\n",
    "    print(\"Pyhton is not present.\")"
   ]
  },
  {
   "cell_type": "markdown",
   "metadata": {},
   "source": [
    "07_problem"
   ]
  },
  {
   "cell_type": "code",
   "execution_count": 33,
   "metadata": {},
   "outputs": [
    {
     "name": "stdout",
     "output_type": "stream",
     "text": [
      "Pyhton is present in Content : Line no 4\n"
     ]
    }
   ],
   "source": [
    "with open(\"log.txt\") as f:\n",
    "    lines = f.readlines()\n",
    "lineno = 1\n",
    "\n",
    "for line in lines:\n",
    "    if(\"python\" in line):\n",
    "        print(f\"Pyhton is present in Content : Line no {lineno}\")\n",
    "        break\n",
    "    lineno += 1\n",
    "else:\n",
    "    print(\"Pyhton is not present.\")"
   ]
  },
  {
   "cell_type": "markdown",
   "metadata": {},
   "source": [
    "08_problem"
   ]
  },
  {
   "cell_type": "code",
   "execution_count": 35,
   "metadata": {},
   "outputs": [],
   "source": [
    "with open(\"poem.txt\") as f:\n",
    "    content = f.read()\n",
    "\n",
    "with open(\"poem_copy.txt\" , \"w\") as f:\n",
    "    f.write(content)"
   ]
  },
  {
   "cell_type": "markdown",
   "metadata": {},
   "source": [
    "09_problem"
   ]
  },
  {
   "cell_type": "code",
   "execution_count": 36,
   "metadata": {},
   "outputs": [
    {
     "name": "stdout",
     "output_type": "stream",
     "text": [
      "Yes these files are identical.\n"
     ]
    }
   ],
   "source": [
    "with open(\"poem.txt\") as f:\n",
    "    content1 = f.read()\n",
    "\n",
    "with open(\"poem_copy.txt\") as f:\n",
    "    content2 = f.read()\n",
    "\n",
    "if(content1 == content2):\n",
    "    print(\"Yes these files are identical.\")\n",
    "else:\n",
    "    print(\"No files are not identical.\")"
   ]
  },
  {
   "cell_type": "markdown",
   "metadata": {},
   "source": [
    "10_problem"
   ]
  },
  {
   "cell_type": "code",
   "execution_count": 39,
   "metadata": {},
   "outputs": [],
   "source": [
    "with open(\"poem_copy.txt\", \"w\") as f:\n",
    "    f.write(\"\")"
   ]
  },
  {
   "cell_type": "markdown",
   "metadata": {},
   "source": [
    "11_problem"
   ]
  },
  {
   "cell_type": "code",
   "execution_count": 41,
   "metadata": {},
   "outputs": [],
   "source": [
    "with open(\"poem.txt\") as f:\n",
    "    content = f.read()\n",
    "\n",
    "with open(\"renamed_file.txt\" , \"w\") as f:\n",
    "    f.write(content)"
   ]
  }
 ],
 "metadata": {
  "kernelspec": {
   "display_name": "base",
   "language": "python",
   "name": "python3"
  },
  "language_info": {
   "codemirror_mode": {
    "name": "ipython",
    "version": 3
   },
   "file_extension": ".py",
   "mimetype": "text/x-python",
   "name": "python",
   "nbconvert_exporter": "python",
   "pygments_lexer": "ipython3",
   "version": "3.12.4"
  }
 },
 "nbformat": 4,
 "nbformat_minor": 2
}
