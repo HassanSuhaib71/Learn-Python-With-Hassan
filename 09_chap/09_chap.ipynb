{
 "cells": [
  {
   "cell_type": "markdown",
   "metadata": {},
   "source": [
    "File"
   ]
  },
  {
   "cell_type": "code",
   "execution_count": 2,
   "metadata": {},
   "outputs": [
    {
     "name": "stdout",
     "output_type": "stream",
     "text": [
      "This is File.\n"
     ]
    }
   ],
   "source": [
    "f = open(\"file.txt\")\n",
    "\n",
    "data = f.read()\n",
    "\n",
    "print(data)\n",
    "f.close()"
   ]
  },
  {
   "cell_type": "markdown",
   "metadata": {},
   "source": [
    "File_write"
   ]
  },
  {
   "cell_type": "code",
   "execution_count": 3,
   "metadata": {},
   "outputs": [],
   "source": [
    "st = \"Add to File\"\n",
    "\n",
    "f = open(\"myfile.txt\",\"w\")\n",
    "\n",
    "f.write(st)\n",
    "f.close()"
   ]
  },
  {
   "cell_type": "markdown",
   "metadata": {},
   "source": [
    "Multi_Read_Lines"
   ]
  },
  {
   "cell_type": "code",
   "execution_count": 7,
   "metadata": {},
   "outputs": [
    {
     "name": "stdout",
     "output_type": "stream",
     "text": [
      "['This is File.\\n', 'This File is First File.\\n', 'this is karoos\\n', 'islamabad is beatiful']\n"
     ]
    }
   ],
   "source": [
    "f = open(\"file.txt\")\n",
    "\n",
    "lines = f.readlines()\n",
    "print(lines,)\n",
    "f.close()"
   ]
  },
  {
   "cell_type": "markdown",
   "metadata": {},
   "source": [
    "Single_Read_Lines"
   ]
  },
  {
   "cell_type": "code",
   "execution_count": 11,
   "metadata": {},
   "outputs": [
    {
     "name": "stdout",
     "output_type": "stream",
     "text": [
      "This is File.\n",
      "\n",
      "This File is First File.\n",
      "\n",
      "this is karoos\n",
      "\n",
      "islamabad is beatiful\n"
     ]
    }
   ],
   "source": [
    "f=open(\"file.txt\")\n",
    "line1=f.readline()\n",
    "print(line1)\n",
    "\n",
    "\n",
    "line2=f.readline()\n",
    "print(line2)\n",
    "\n",
    "\n",
    "line3=f.readline()\n",
    "print(line3)\n",
    "\n",
    "\n",
    "line4=f.readline()\n",
    "print(line4)\n",
    "\n",
    "f.close()"
   ]
  },
  {
   "cell_type": "markdown",
   "metadata": {},
   "source": [
    "Append"
   ]
  },
  {
   "cell_type": "code",
   "execution_count": 12,
   "metadata": {},
   "outputs": [],
   "source": [
    "st = \"This file is append.\"\n",
    "\n",
    "f = open(\"myfile.txt\",\"a\")\n",
    "\n",
    "f.write(st)\n",
    "f.close()"
   ]
  },
  {
   "cell_type": "markdown",
   "metadata": {},
   "source": [
    "With"
   ]
  },
  {
   "cell_type": "code",
   "execution_count": 15,
   "metadata": {},
   "outputs": [
    {
     "name": "stdout",
     "output_type": "stream",
     "text": [
      "This is File.\n",
      "This File is First File.\n",
      "this is karoos\n",
      "islamabad is beatiful\n"
     ]
    }
   ],
   "source": [
    "with open(\"file.txt\") as f:\n",
    "    print(f.read())"
   ]
  }
 ],
 "metadata": {
  "kernelspec": {
   "display_name": "base",
   "language": "python",
   "name": "python3"
  },
  "language_info": {
   "codemirror_mode": {
    "name": "ipython",
    "version": 3
   },
   "file_extension": ".py",
   "mimetype": "text/x-python",
   "name": "python",
   "nbconvert_exporter": "python",
   "pygments_lexer": "ipython3",
   "version": "3.12.4"
  }
 },
 "nbformat": 4,
 "nbformat_minor": 2
}
