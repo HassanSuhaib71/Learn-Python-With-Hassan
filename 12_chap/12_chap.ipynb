{
 "cells": [
  {
   "cell_type": "markdown",
   "metadata": {},
   "source": [
    "01_Walrus"
   ]
  },
  {
   "cell_type": "code",
   "execution_count": 2,
   "metadata": {},
   "outputs": [
    {
     "name": "stdout",
     "output_type": "stream",
     "text": [
      "List is too long( 5 elements, expected <= 3)\n"
     ]
    }
   ],
   "source": [
    "if( n := len([1,2,3,4,5])) > 3:\n",
    "    print(f\"List is too long( {n} elements, expected <= 3)\")"
   ]
  },
  {
   "cell_type": "markdown",
   "metadata": {},
   "source": [
    "02_Type_Hints"
   ]
  },
  {
   "cell_type": "code",
   "execution_count": 4,
   "metadata": {},
   "outputs": [
    {
     "data": {
      "text/plain": [
       "6"
      ]
     },
     "execution_count": 4,
     "metadata": {},
     "output_type": "execute_result"
    }
   ],
   "source": [
    "n : int = 5\n",
    "\n",
    "name : str = \"Hassan\"\n",
    "\n",
    "def sum(a : int , b : int) -> int:\n",
    "    return a+b\n",
    "\n",
    "sum(2,4)"
   ]
  },
  {
   "cell_type": "markdown",
   "metadata": {},
   "source": [
    "03_Advanced_Hints"
   ]
  },
  {
   "cell_type": "code",
   "execution_count": 5,
   "metadata": {},
   "outputs": [],
   "source": [
    "from typing import List,Tuple,Dict,Union\n",
    "\n",
    "numbers : List[int] = [1,2,3,4,5]\n",
    "\n",
    "person : Tuple[str,int] = (\"Hassan\",12)\n",
    "\n",
    "source : Dict[str,int] = {\"Alice\" : 90 ,    \"Bob\" : 80}\n",
    "\n",
    "identifier : Union[int , str] = \"ID123\"\n"
   ]
  },
  {
   "cell_type": "markdown",
   "metadata": {},
   "source": [
    "04_Match_Case"
   ]
  },
  {
   "cell_type": "code",
   "execution_count": 7,
   "metadata": {},
   "outputs": [
    {
     "data": {
      "text/plain": [
       "'OK'"
      ]
     },
     "execution_count": 7,
     "metadata": {},
     "output_type": "execute_result"
    }
   ],
   "source": [
    "def http_status(status):\n",
    "    match status:\n",
    "        case 200:\n",
    "            return \"OK\"\n",
    "        case 404:\n",
    "            return \"Not Found\"\n",
    "        case 500:\n",
    "            return \"Internal Server Error\"\n",
    "        case _:\n",
    "            return \"Unknown status\"\n",
    "        \n",
    "http_status(200)"
   ]
  },
  {
   "cell_type": "markdown",
   "metadata": {},
   "source": [
    "05_Dictionary_Merge_and_Update_Operators"
   ]
  },
  {
   "cell_type": "code",
   "execution_count": 8,
   "metadata": {},
   "outputs": [
    {
     "name": "stdout",
     "output_type": "stream",
     "text": [
      "{'a': 1, 'b': 3, 'c': 4}\n"
     ]
    }
   ],
   "source": [
    "dict1 = {'a' : 1,'b' : 2}\n",
    "dict2 = {'b' : 3,'c' : 4}\n",
    "\n",
    "merged = dict1 | dict2\n",
    "\n",
    "print(merged)"
   ]
  },
  {
   "cell_type": "code",
   "execution_count": null,
   "metadata": {},
   "outputs": [],
   "source": [
    "with(\n",
    "    open('file1.txt') as f1,\n",
    "    open('file2.txt') as f2\n",
    "):"
   ]
  },
  {
   "cell_type": "markdown",
   "metadata": {},
   "source": [
    "06_Exception_Handling"
   ]
  },
  {
   "cell_type": "code",
   "execution_count": 15,
   "metadata": {},
   "outputs": [
    {
     "name": "stdout",
     "output_type": "stream",
     "text": [
      "invalid literal for int() with base 10: 'askmca'\n",
      "Thank You\n"
     ]
    }
   ],
   "source": [
    "try:\n",
    "    a = int(input(\"Hey, Enter a number: \"))\n",
    "\n",
    "except ValueError as v:\n",
    "    print(v)\n",
    "\n",
    "except Exception as e:\n",
    "    print(e)\n",
    "\n",
    "print(\"Thank You\")"
   ]
  },
  {
   "cell_type": "markdown",
   "metadata": {},
   "source": [
    "05_Raising_exception"
   ]
  },
  {
   "cell_type": "code",
   "execution_count": 19,
   "metadata": {},
   "outputs": [
    {
     "name": "stdout",
     "output_type": "stream",
     "text": [
      "The Divison a/b is 1.0\n"
     ]
    }
   ],
   "source": [
    "a = int(input(\"Enter a number:\"))\n",
    "b = int(input(\"Enter second number:\"))\n",
    "\n",
    "if(b==0):\n",
    "    raise ZeroDivisionError(\"Hey our program is not meant to divide numbers by zero.\")\n",
    "else:\n",
    "    print(f\"The Divison a/b is {a/b}\")"
   ]
  },
  {
   "cell_type": "markdown",
   "metadata": {},
   "source": [
    "06_try_else"
   ]
  },
  {
   "cell_type": "code",
   "execution_count": 20,
   "metadata": {},
   "outputs": [
    {
     "name": "stdout",
     "output_type": "stream",
     "text": [
      "32\n",
      "I am inside else.\n"
     ]
    }
   ],
   "source": [
    "try:\n",
    "    a= int(input(\"hey , Enter a number: \"))\n",
    "    print(a)\n",
    "\n",
    "except Exception as e:\n",
    "    print(e)\n",
    "\n",
    "else:\n",
    "    print(\"I am inside else.\")"
   ]
  },
  {
   "cell_type": "markdown",
   "metadata": {},
   "source": [
    "07_try_finally"
   ]
  },
  {
   "cell_type": "code",
   "execution_count": null,
   "metadata": {},
   "outputs": [
    {
     "name": "stdout",
     "output_type": "stream",
     "text": [
      "invalid literal for int() with base 10: 'sdkfnasklcna'\n",
      "I am inside finally.\n"
     ]
    }
   ],
   "source": [
    "def main():\n",
    "\n",
    "    try:\n",
    "        a = int(input(\"Hey, Enter a number: \"))\n",
    "        print(a)\n",
    "        return\n",
    "\n",
    "    except Exception as e:\n",
    "        print(e)\n",
    "        return\n",
    "\n",
    "    finally:\n",
    "        print(\"I am inside finally.\") #When return is not present in function 'finally' content is not printing.\n",
    "\n",
    "main()"
   ]
  },
  {
   "cell_type": "markdown",
   "metadata": {},
   "source": [
    "09_global"
   ]
  },
  {
   "cell_type": "code",
   "execution_count": 23,
   "metadata": {},
   "outputs": [
    {
     "name": "stdout",
     "output_type": "stream",
     "text": [
      "3\n",
      "3\n"
     ]
    }
   ],
   "source": [
    "a = 20\n",
    "\n",
    "def fun():\n",
    "    global a\n",
    "    a = 3\n",
    "    print(a)\n",
    "\n",
    "fun()\n",
    "print(a)"
   ]
  },
  {
   "cell_type": "markdown",
   "metadata": {},
   "source": [
    "10_enumerate"
   ]
  },
  {
   "cell_type": "code",
   "execution_count": 26,
   "metadata": {},
   "outputs": [
    {
     "name": "stdout",
     "output_type": "stream",
     "text": [
      "The item number at index 0 is 32\n",
      "The item number at index 1 is 313\n",
      "The item number at index 2 is 344\n",
      "The item number at index 3 is 56\n",
      "The item number at index 4 is 43\n"
     ]
    }
   ],
   "source": [
    "l = [32,313,344,56,43]\n",
    "\n",
    "# index = 0 \n",
    "# for item in l:\n",
    "#     print(f\"The item number at index {index} is {item}\")\n",
    "#     item += 1\n",
    "\n",
    "for index , item in enumerate(l):\n",
    "    print(f\"The item number at index {index} is {item}\")"
   ]
  },
  {
   "cell_type": "markdown",
   "metadata": {},
   "source": [
    "11_list_comprehension"
   ]
  },
  {
   "cell_type": "code",
   "execution_count": 30,
   "metadata": {},
   "outputs": [
    {
     "name": "stdout",
     "output_type": "stream",
     "text": [
      "[1, 4, 9, 16, 25]\n"
     ]
    }
   ],
   "source": [
    "mylist = [1,2,3,4,5]\n",
    "\n",
    "# squaredlist = []\n",
    "# for item in mylist:\n",
    "#     squaredlist.append(item*item)\n",
    "\n",
    "\n",
    "squaredlist = [i*i for i in mylist]\n",
    "print(squaredlist)\n"
   ]
  }
 ],
 "metadata": {
  "kernelspec": {
   "display_name": "base",
   "language": "python",
   "name": "python3"
  },
  "language_info": {
   "codemirror_mode": {
    "name": "ipython",
    "version": 3
   },
   "file_extension": ".py",
   "mimetype": "text/x-python",
   "name": "python",
   "nbconvert_exporter": "python",
   "pygments_lexer": "ipython3",
   "version": "3.12.4"
  }
 },
 "nbformat": 4,
 "nbformat_minor": 2
}
