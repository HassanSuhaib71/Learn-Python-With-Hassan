{
 "cells": [
  {
   "cell_type": "markdown",
   "metadata": {},
   "source": [
    "01_Que"
   ]
  },
  {
   "cell_type": "code",
   "execution_count": null,
   "metadata": {},
   "outputs": [
    {
     "name": "stdout",
     "output_type": "stream",
     "text": [
      "3 * 1 = 3\n",
      "3 * 2 = 6\n",
      "3 * 3 = 9\n",
      "3 * 4 = 12\n",
      "3 * 5 = 15\n",
      "3 * 6 = 18\n",
      "3 * 7 = 21\n",
      "3 * 8 = 24\n",
      "3 * 9 = 27\n",
      "3 * 10 = 30\n"
     ]
    }
   ],
   "source": [
    "num = int(input(\"Enter Number :\"))\n",
    "for n in range(1,11):\n",
    "    res = num * n\n",
    "    print(f\"{num} * {n} = {res}\")\n",
    "\n",
    "\n",
    "\n"
   ]
  },
  {
   "cell_type": "markdown",
   "metadata": {},
   "source": [
    "Q1_Que_in_While"
   ]
  },
  {
   "cell_type": "code",
   "execution_count": 12,
   "metadata": {},
   "outputs": [
    {
     "name": "stdout",
     "output_type": "stream",
     "text": [
      "3 * 1 = 3\n",
      "3 * 2 = 6\n",
      "3 * 3 = 9\n",
      "3 * 4 = 12\n",
      "3 * 5 = 15\n",
      "3 * 6 = 18\n",
      "3 * 7 = 21\n",
      "3 * 8 = 24\n",
      "3 * 9 = 27\n",
      "3 * 10 = 30\n"
     ]
    }
   ],
   "source": [
    "n = int(input(\"Enter a NUmber :\"))\n",
    "i = 1\n",
    "\n",
    "while(i<11):\n",
    "    print(f\"{n} * {i} = {n*i}\")\n",
    "    i+=1\n",
    "\n",
    "\n"
   ]
  },
  {
   "cell_type": "markdown",
   "metadata": {},
   "source": [
    "02_Que"
   ]
  },
  {
   "cell_type": "code",
   "execution_count": 11,
   "metadata": {},
   "outputs": [
    {
     "name": "stdout",
     "output_type": "stream",
     "text": [
      "Hello hassan\n",
      "Hello huzaifa\n"
     ]
    }
   ],
   "source": [
    "l = [\"hassan\",\"Ali\",\"huzaifa\",\"Aslam\"]\n",
    "\n",
    "for name in l:\n",
    "    if(name.startswith('h')):\n",
    "        print(f\"Hello {name}\")"
   ]
  },
  {
   "cell_type": "markdown",
   "metadata": {},
   "source": [
    "03_Que"
   ]
  },
  {
   "cell_type": "code",
   "execution_count": 13,
   "metadata": {},
   "outputs": [
    {
     "name": "stdout",
     "output_type": "stream",
     "text": [
      "Number is Prime.\n"
     ]
    }
   ],
   "source": [
    "n = int(input(\"Enter a Number :\"))\n",
    "\n",
    "for i in range(2,n):\n",
    "    if(n%2) == 0:\n",
    "        print(\"Number is not Prime.\")\n",
    "        break\n",
    "else:\n",
    "    print(\"Number is Prime.\")"
   ]
  },
  {
   "cell_type": "markdown",
   "metadata": {},
   "source": [
    "04_Que"
   ]
  },
  {
   "cell_type": "code",
   "execution_count": 14,
   "metadata": {},
   "outputs": [
    {
     "name": "stdout",
     "output_type": "stream",
     "text": [
      "11\n"
     ]
    }
   ],
   "source": [
    "n = int(input(\"Enter a Number :\"))\n",
    "i = 0\n",
    "sum = 1\n",
    "\n",
    "while(i<=n):\n",
    "    sum+=i\n",
    "    i+=1\n",
    "print(sum)"
   ]
  },
  {
   "cell_type": "markdown",
   "metadata": {},
   "source": [
    "05_Que"
   ]
  },
  {
   "cell_type": "code",
   "execution_count": 15,
   "metadata": {},
   "outputs": [
    {
     "name": "stdout",
     "output_type": "stream",
     "text": [
      "Factoriel of 3 is 6\n"
     ]
    }
   ],
   "source": [
    "n = int(input(\"Enter a Number :\"))\n",
    "product = 1\n",
    "\n",
    "for i in range(1 , n+1):\n",
    "    product = product * i\n",
    "\n",
    "print(f\"Factoriel of {n} is {product}\")"
   ]
  },
  {
   "cell_type": "markdown",
   "metadata": {},
   "source": [
    "06_Que"
   ]
  },
  {
   "cell_type": "code",
   "execution_count": 17,
   "metadata": {},
   "outputs": [
    {
     "name": "stdout",
     "output_type": "stream",
     "text": [
      "  *\n",
      " ***\n",
      "*****\n"
     ]
    }
   ],
   "source": [
    "n = int(input(\"Enter a Number :\"))\n",
    "\n",
    "for i in range(1, n+1):\n",
    "    print(\" \"* (n-i),end=\"\")\n",
    "    print(\"*\" * (2*i-1), end=\"\")\n",
    "    print(\"\")"
   ]
  },
  {
   "cell_type": "markdown",
   "metadata": {},
   "source": [
    "07_Que"
   ]
  },
  {
   "cell_type": "code",
   "execution_count": 23,
   "metadata": {},
   "outputs": [
    {
     "name": "stdout",
     "output_type": "stream",
     "text": [
      "*\n",
      "**\n",
      "***\n"
     ]
    }
   ],
   "source": [
    "n = int(input(\"Enter a Number :\"))\n",
    "for i in range(1,n+1):\n",
    "    print(\"*\"* i,end=\"\" )\n",
    "    print(\"\")"
   ]
  },
  {
   "cell_type": "markdown",
   "metadata": {},
   "source": [
    "08_Que"
   ]
  },
  {
   "cell_type": "code",
   "execution_count": 21,
   "metadata": {},
   "outputs": [
    {
     "name": "stdout",
     "output_type": "stream",
     "text": [
      "*****\n",
      "*   *\n",
      "*   *\n",
      "*   *\n",
      "*****\n"
     ]
    }
   ],
   "source": [
    "n = int(input(\"Enter a Number :\"))\n",
    "for i in range(1,n+1):\n",
    "    if(i==1 or i==n):\n",
    "        print(\"*\"*n,end=\"\")\n",
    "    else:\n",
    "        print(\"*\",end=\"\")\n",
    "        print(\" \"*(n-2),end=\"\")\n",
    "        print(\"*\",end=\"\")\n",
    "    print(\"\")"
   ]
  },
  {
   "cell_type": "markdown",
   "metadata": {},
   "source": [
    "09_Que"
   ]
  },
  {
   "cell_type": "code",
   "execution_count": 24,
   "metadata": {},
   "outputs": [
    {
     "name": "stdout",
     "output_type": "stream",
     "text": [
      "3 * 9 = 27\n",
      "3 * 8 = 24\n",
      "3 * 7 = 21\n",
      "3 * 6 = 18\n",
      "3 * 5 = 15\n",
      "3 * 4 = 12\n",
      "3 * 3 = 9\n",
      "3 * 2 = 6\n",
      "3 * 1 = 3\n"
     ]
    }
   ],
   "source": [
    "n = int(input(\"Enter table you want :\"))\n",
    "t = int(input(\"Enter how many number to print :\"))\n",
    "\n",
    "for i in range(1,t):\n",
    "    print(f\"{n} * {t-i} = {n*(t-i)}\")\n"
   ]
  }
 ],
 "metadata": {
  "kernelspec": {
   "display_name": "base",
   "language": "python",
   "name": "python3"
  },
  "language_info": {
   "codemirror_mode": {
    "name": "ipython",
    "version": 3
   },
   "file_extension": ".py",
   "mimetype": "text/x-python",
   "name": "python",
   "nbconvert_exporter": "python",
   "pygments_lexer": "ipython3",
   "version": "3.12.4"
  }
 },
 "nbformat": 4,
 "nbformat_minor": 2
}
